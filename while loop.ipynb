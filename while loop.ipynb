{
 "cells": [
  {
   "cell_type": "code",
   "execution_count": 1,
   "id": "da12e973",
   "metadata": {},
   "outputs": [
    {
     "name": "stdout",
     "output_type": "stream",
     "text": [
      "*****\n",
      "*    *\n",
      "*    *\n",
      "*****\n",
      "*    *\n",
      "*    *\n",
      "*****\n"
     ]
    }
   ],
   "source": [
    "a=1\n",
    "while a<=7:\n",
    "    if a==1:\n",
    "        print(\"*****\")\n",
    "    elif a==2:\n",
    "        print(\"*    *\")\n",
    "    elif a==3:\n",
    "        print(\"*    *\")\n",
    "    elif a==4:\n",
    "        print(\"*****\")\n",
    "    elif a==5:\n",
    "        print(\"*    *\")\n",
    "    elif a==6:\n",
    "        print(\"*    *\")\n",
    "    elif a==7:\n",
    "        print(\"*****\")\n",
    "    a=a+1 "
   ]
  },
  {
   "cell_type": "code",
   "execution_count": 2,
   "id": "8c54670d",
   "metadata": {},
   "outputs": [
    {
     "name": "stdout",
     "output_type": "stream",
     "text": [
      " ****\n",
      "*\n",
      "*\n",
      "*\n",
      " ****\n"
     ]
    }
   ],
   "source": [
    "a=1\n",
    "while a<=5:\n",
    "    if a==1:\n",
    "        print(\" ****\")\n",
    "    elif a==2:\n",
    "        print(\"*\")\n",
    "    elif a==3:\n",
    "        print(\"*\")\n",
    "    elif a==4:\n",
    "        print(\"*\")\n",
    "    elif a==5:\n",
    "        print(\" ****\")\n",
    "    a=a+1"
   ]
  },
  {
   "cell_type": "code",
   "execution_count": 3,
   "id": "6388170d",
   "metadata": {},
   "outputs": [
    {
     "name": "stdout",
     "output_type": "stream",
     "text": [
      "*****\n",
      "*    *\n",
      "*    *\n",
      "*    *\n",
      "*****\n"
     ]
    }
   ],
   "source": [
    "a=1\n",
    "while a<=5:\n",
    "    if a==1:\n",
    "        print(\"*****\")\n",
    "    elif a==2:\n",
    "        print(\"*    *\")\n",
    "    elif a==3:\n",
    "        print(\"*    *\")\n",
    "    elif a==4:\n",
    "        print(\"*    *\")\n",
    "    elif a==5:\n",
    "        print(\"*****\")\n",
    "    a=a+1"
   ]
  },
  {
   "cell_type": "code",
   "execution_count": 4,
   "id": "e048d5ab",
   "metadata": {},
   "outputs": [
    {
     "name": "stdout",
     "output_type": "stream",
     "text": [
      "*****\n",
      "*\n",
      "*****\n",
      "*\n",
      "*****\n"
     ]
    }
   ],
   "source": [
    "a=1\n",
    "while a<=5:\n",
    "    if a==1:\n",
    "        print(\"*****\")\n",
    "    elif a==2:\n",
    "        print(\"*\")\n",
    "    elif a==3:\n",
    "        print(\"*****\")\n",
    "    elif a==4:\n",
    "        print(\"*\")\n",
    "    elif a==5:\n",
    "        print(\"*****\")\n",
    "    a=a+1"
   ]
  },
  {
   "cell_type": "code",
   "execution_count": 5,
   "id": "f8d7f928",
   "metadata": {},
   "outputs": [
    {
     "name": "stdout",
     "output_type": "stream",
     "text": [
      "*****\n",
      "*\n",
      "*****\n",
      "*\n",
      "*\n"
     ]
    }
   ],
   "source": [
    "a=1\n",
    "while  a<=5:\n",
    "    if a==1:\n",
    "        print(\"*****\")\n",
    "    elif a==2:\n",
    "        print(\"*\")\n",
    "    elif a==3:\n",
    "        print(\"*****\")\n",
    "    elif a==4:\n",
    "        print(\"*\")\n",
    "    elif a==5:\n",
    "        print(\"*\")\n",
    "    a=a+1"
   ]
  },
  {
   "cell_type": "code",
   "execution_count": 6,
   "id": "fe43f5fc",
   "metadata": {},
   "outputs": [
    {
     "name": "stdout",
     "output_type": "stream",
     "text": [
      "  ****\n",
      " *\n",
      " *   ****\n",
      "  ***** *\n",
      "        *\n",
      "        *\n"
     ]
    }
   ],
   "source": [
    "a=1\n",
    "while a<=6:\n",
    "    if a==1:\n",
    "        print(\"  ****\")\n",
    "    elif a==2:\n",
    "        print(\" *\")\n",
    "    elif a==3:\n",
    "        print(\" *   ****\")\n",
    "    elif a==4:\n",
    "        print(\"  ***** *\")\n",
    "    elif a==5:\n",
    "        print(\"        *\")\n",
    "    elif a==6:\n",
    "        print(\"        *\")\n",
    "    a=a+1"
   ]
  },
  {
   "cell_type": "code",
   "execution_count": 7,
   "id": "939e3909",
   "metadata": {},
   "outputs": [
    {
     "name": "stdout",
     "output_type": "stream",
     "text": [
      "*    *\n",
      "*    *\n",
      "******\n",
      "*    *\n",
      "*    *\n"
     ]
    }
   ],
   "source": [
    "a=1\n",
    "while a<=5:\n",
    "    if a==1:\n",
    "        print(\"*    *\")\n",
    "    elif a==2:\n",
    "        print(\"*    *\")\n",
    "    elif a==3:\n",
    "        print(\"******\")\n",
    "    elif a==4:\n",
    "        print(\"*    *\")\n",
    "    elif a==5:\n",
    "        print(\"*    *\")\n",
    "    a=a+1\n",
    "    "
   ]
  },
  {
   "cell_type": "code",
   "execution_count": 8,
   "id": "743da714",
   "metadata": {},
   "outputs": [
    {
     "name": "stdout",
     "output_type": "stream",
     "text": [
      "*******\n",
      "   *   \n",
      "   *   \n",
      "   *   \n",
      "*******\n"
     ]
    }
   ],
   "source": [
    "a=1\n",
    "while a<=5:\n",
    "    if a==1:\n",
    "        print(\"*******\")\n",
    "    elif a==2:\n",
    "        print(\"   *   \")\n",
    "    elif a==3:\n",
    "        print(\"   *   \")\n",
    "    elif a==4:\n",
    "        print(\"   *   \")\n",
    "    elif a==5:\n",
    "        print(\"*******\")\n",
    "    a=a+1"
   ]
  },
  {
   "cell_type": "code",
   "execution_count": 9,
   "id": "b2050596",
   "metadata": {},
   "outputs": [
    {
     "name": "stdout",
     "output_type": "stream",
     "text": [
      "*******\n",
      "    *   \n",
      "    *   \n",
      "*   *   \n",
      " ***\n"
     ]
    }
   ],
   "source": [
    "a=1\n",
    "while a<=5:\n",
    "    if a==1:\n",
    "        print(\"*******\")\n",
    "    elif a==2:\n",
    "        print(\"    *   \")\n",
    "    elif a==3:\n",
    "        print(\"    *   \")\n",
    "    elif a==4:\n",
    "        print(\"*   *   \")\n",
    "    elif a==5:\n",
    "        print(\" ***\")\n",
    "    a=a+1"
   ]
  },
  {
   "cell_type": "code",
   "execution_count": 10,
   "id": "a4b93b7f",
   "metadata": {},
   "outputs": [
    {
     "name": "stdout",
     "output_type": "stream",
     "text": [
      "*    *\n",
      "*   *\n",
      "*  *\n",
      "* *\n",
      "**\n",
      "* *\n",
      "*  *\n",
      "*   *\n",
      "*    *\n"
     ]
    }
   ],
   "source": [
    "a=1\n",
    "while a<=9:\n",
    "    if a==1:\n",
    "        print(\"*    *\")\n",
    "    elif a==2:\n",
    "        print(\"*   *\")\n",
    "    elif a==3:\n",
    "        print(\"*  *\")\n",
    "    elif a==4:\n",
    "        print(\"* *\")\n",
    "    elif a==5:\n",
    "        print(\"**\")\n",
    "    elif a==6:\n",
    "        print(\"* *\")\n",
    "    elif a==7:\n",
    "        print(\"*  *\")\n",
    "    elif a==8:\n",
    "        print(\"*   *\")\n",
    "    elif a==9:\n",
    "        print(\"*    *\")\n",
    "    a=a+1\n",
    "    "
   ]
  },
  {
   "cell_type": "code",
   "execution_count": 11,
   "id": "3f5db84b",
   "metadata": {},
   "outputs": [
    {
     "name": "stdout",
     "output_type": "stream",
     "text": [
      "*\n",
      "*\n",
      "*\n",
      "*\n",
      "******\n"
     ]
    }
   ],
   "source": [
    "a=1\n",
    "while a<=5:\n",
    "    if a==1:\n",
    "        print(\"*\")\n",
    "    elif a==2:\n",
    "        print(\"*\")\n",
    "    elif a==3: \n",
    "        print(\"*\")\n",
    "    elif a==4:\n",
    "        print(\"*\")\n",
    "    elif a==5:\n",
    "        print(\"******\")\n",
    "    a=a+1\n",
    "    "
   ]
  },
  {
   "cell_type": "code",
   "execution_count": 12,
   "id": "a2417cc5",
   "metadata": {},
   "outputs": [
    {
     "name": "stdout",
     "output_type": "stream",
     "text": [
      "*       *\n",
      "* *   * *\n",
      "*  * *  *\n",
      "*   *   *\n",
      "*       *\n",
      "*       *\n"
     ]
    }
   ],
   "source": [
    "a=1\n",
    "while a<=6:\n",
    "    if a==1:\n",
    "        print(\"*       *\")\n",
    "    elif a==2:\n",
    "        print(\"* *   * *\")\n",
    "    elif a==3:\n",
    "        print(\"*  * *  *\")\n",
    "    elif a==4:\n",
    "        print(\"*   *   *\")\n",
    "    elif a==5:\n",
    "        print(\"*       *\")\n",
    "    elif a==6:\n",
    "        print(\"*       *\")\n",
    "    a=a+1"
   ]
  },
  {
   "cell_type": "code",
   "execution_count": 13,
   "id": "765ab12d",
   "metadata": {},
   "outputs": [
    {
     "name": "stdout",
     "output_type": "stream",
     "text": [
      "*      *\n",
      "**     *\n",
      "* *    *\n",
      "*  *   *\n",
      "*   *  *\n",
      "*     **\n",
      "*      *\n"
     ]
    }
   ],
   "source": [
    "a=1\n",
    "while a<=7:\n",
    "    if a==1:\n",
    "        print(\"*      *\")\n",
    "    elif a==2:\n",
    "        print(\"**     *\")\n",
    "    elif a==3:\n",
    "        print(\"* *    *\")\n",
    "    elif a==4:\n",
    "        print(\"*  *   *\")\n",
    "    elif a==5:\n",
    "        print(\"*   *  *\")\n",
    "    elif a==6:\n",
    "        print(\"*     **\")\n",
    "    elif a==7:\n",
    "        print(\"*      *\")\n",
    "    a=a+1"
   ]
  },
  {
   "cell_type": "code",
   "execution_count": 17,
   "id": "16c0c178",
   "metadata": {},
   "outputs": [
    {
     "name": "stdout",
     "output_type": "stream",
     "text": [
      " **** \n",
      "*    *\n",
      "*    *\n",
      "*    *\n",
      " **** \n"
     ]
    }
   ],
   "source": [
    "a=1\n",
    "while a<=5:\n",
    "    if a==1:\n",
    "        print(\" **** \")\n",
    "    elif a==2:\n",
    "        print(\"*    *\")\n",
    "    elif a==3: \n",
    "        print(\"*    *\")\n",
    "    elif a==4:\n",
    "        print(\"*    *\")\n",
    "    elif a==5:\n",
    "        print(\" **** \")\n",
    "    a=a+1\n",
    "    "
   ]
  },
  {
   "cell_type": "code",
   "execution_count": 20,
   "id": "c5390092",
   "metadata": {},
   "outputs": [
    {
     "name": "stdout",
     "output_type": "stream",
     "text": [
      " **** \n",
      "*    *\n",
      "*    *\n",
      "*    *\n",
      "***** \n",
      "*\n",
      "*\n",
      "*\n"
     ]
    }
   ],
   "source": [
    "a=1\n",
    "while a<=8:\n",
    "    if a==1:\n",
    "        print(\" **** \")\n",
    "    elif a==2:\n",
    "        print(\"*    *\")\n",
    "    elif a==3: \n",
    "        print(\"*    *\")\n",
    "    elif a==4:\n",
    "        print(\"*    *\")\n",
    "    elif a==5:\n",
    "        print(\"***** \")\n",
    "    elif a==6:\n",
    "        print(\"*\")\n",
    "    elif a==7:\n",
    "        print(\"*\")\n",
    "    elif a==8:\n",
    "        print(\"*\")\n",
    "    a=a+1"
   ]
  },
  {
   "cell_type": "code",
   "execution_count": 35,
   "id": "3e19c0fe",
   "metadata": {},
   "outputs": [
    {
     "name": "stdout",
     "output_type": "stream",
     "text": [
      "   * * *   \n",
      "*        *\n",
      "*  *  *  *\n",
      "*      * *\n",
      " * * * *  \n",
      "        *  *  * \n"
     ]
    }
   ],
   "source": [
    "a=1\n",
    "while a<=6:\n",
    "    if a==1:\n",
    "        print(\"   * * *   \")\n",
    "    elif a==2:\n",
    "        print(\"*        *\")\n",
    "    elif a==3:\n",
    "        print(\"*  *  *  *\")\n",
    "    elif a==4:\n",
    "        print(\"*      * *\")\n",
    "    elif a==5:\n",
    "        print(\" * * * *  \")\n",
    "    elif a==6:\n",
    "        print(\"        *  *  * \")\n",
    "    a=a+1"
   ]
  },
  {
   "cell_type": "code",
   "execution_count": 33,
   "id": "de7d26c1",
   "metadata": {},
   "outputs": [
    {
     "name": "stdout",
     "output_type": "stream",
     "text": [
      "**** \n",
      "*   *\n",
      "*  *\n",
      "* *\n",
      "**\n",
      "*  *\n",
      "*   *\n",
      "*    *\n",
      "*     *\n"
     ]
    }
   ],
   "source": [
    "a=1\n",
    "while a<=9:\n",
    "    if a==1:\n",
    "        print(\"**** \")\n",
    "    elif a==2:\n",
    "        print(\"*   *\")\n",
    "    elif a==3:\n",
    "        print(\"*  *\")\n",
    "    elif a==4:\n",
    "        print(\"* *\")\n",
    "    elif a==5:\n",
    "        print(\"**\")\n",
    "    elif a==6:\n",
    "        print(\"*  *\")\n",
    "    elif a==7:\n",
    "        print(\"*   *\")\n",
    "    elif a==8:\n",
    "        print(\"*    *\")\n",
    "    elif a==9:\n",
    "        print(\"*     *\")\n",
    "    a=a+1"
   ]
  },
  {
   "cell_type": "code",
   "execution_count": 4,
   "id": "d6bc9a34",
   "metadata": {},
   "outputs": [
    {
     "name": "stdout",
     "output_type": "stream",
     "text": [
      "*******\n",
      "*      \n",
      "*******\n",
      "      *\n",
      "*******\n"
     ]
    }
   ],
   "source": [
    "a=1\n",
    "while a<=5:\n",
    "    if a==1:\n",
    "        print(\"*******\")\n",
    "    elif a==2:\n",
    "        print(\"*      \")\n",
    "    elif a==3:\n",
    "        print(\"*******\")\n",
    "    elif a==4:\n",
    "        print(\"      *\")\n",
    "    elif a==5:\n",
    "        print(\"*******\")\n",
    "    a=a+1"
   ]
  },
  {
   "cell_type": "code",
   "execution_count": 5,
   "id": "1188297d",
   "metadata": {},
   "outputs": [
    {
     "name": "stdout",
     "output_type": "stream",
     "text": [
      "*******\n",
      "   *   \n",
      "   *   \n",
      "   *   \n",
      "   *   \n"
     ]
    }
   ],
   "source": [
    "a=1\n",
    "while a<=5:\n",
    "    if a==1:\n",
    "        print(\"*******\")\n",
    "    elif a==2:\n",
    "        print(\"   *   \")\n",
    "    elif a==3:\n",
    "        print(\"   *   \")\n",
    "    elif a==4:\n",
    "        print(\"   *   \")\n",
    "    elif a==5:\n",
    "        print(\"   *   \")\n",
    "    a=a+1"
   ]
  },
  {
   "cell_type": "code",
   "execution_count": 6,
   "id": "15764c7b",
   "metadata": {},
   "outputs": [
    {
     "name": "stdout",
     "output_type": "stream",
     "text": [
      "      \n",
      "*    *\n",
      "*    *\n",
      "*    *\n",
      " **** \n"
     ]
    }
   ],
   "source": [
    "a=1\n",
    "while a<=5:\n",
    "    if a==1:\n",
    "        print(\"      \")\n",
    "    elif a==2:\n",
    "        print(\"*    *\")\n",
    "    elif a==3: \n",
    "        print(\"*    *\")\n",
    "    elif a==4:\n",
    "        print(\"*    *\")\n",
    "    elif a==5:\n",
    "        print(\" **** \")\n",
    "    a=a+1"
   ]
  },
  {
   "cell_type": "code",
   "execution_count": 11,
   "id": "24258f90",
   "metadata": {},
   "outputs": [
    {
     "name": "stdout",
     "output_type": "stream",
     "text": [
      "*         *\n",
      " *       * \n",
      "  *     *  \n",
      "   *   *  \n",
      "    * *   \n",
      "     *    \n"
     ]
    }
   ],
   "source": [
    "a=1\n",
    "while a<=6:\n",
    "    if a==1:\n",
    "        print(\"*         *\")\n",
    "    elif a==2:\n",
    "        print(\" *       * \")\n",
    "    elif a==3: \n",
    "        print(\"  *     *  \")\n",
    "    elif a==4:\n",
    "        print(\"   *   *  \")  \n",
    "    elif a==5:\n",
    "        print(\"    * *   \")\n",
    "    elif a==6:\n",
    "        print(\"     *    \")\n",
    "    a=a+1"
   ]
  },
  {
   "cell_type": "code",
   "execution_count": 12,
   "id": "5bbd7005",
   "metadata": {},
   "outputs": [
    {
     "name": "stdout",
     "output_type": "stream",
     "text": [
      "*         *         *\n",
      " *       * *       *\n",
      "  *     *   *     *\n",
      "   *   *     *   *\n",
      "    * *       * *\n",
      "     *         *\n"
     ]
    }
   ],
   "source": [
    "a=1\n",
    "while a<=6:\n",
    "    if a==1:\n",
    "        print(\"*         *         *\")\n",
    "    elif a==2:\n",
    "        print(\" *       * *       *\")\n",
    "    elif a==3: \n",
    "        print(\"  *     *   *     *\")\n",
    "    elif a==4:\n",
    "        print(\"   *   *     *   *\")  \n",
    "    elif a==5:\n",
    "        print(\"    * *       * *\")\n",
    "    elif a==6:\n",
    "        print(\"     *         *\")\n",
    "    a=a+1"
   ]
  },
  {
   "cell_type": "code",
   "execution_count": 17,
   "id": "17ab5897",
   "metadata": {},
   "outputs": [
    {
     "name": "stdout",
     "output_type": "stream",
     "text": [
      "*       *\n",
      " *     * \n",
      "    *     \n",
      " *     * \n",
      "*       *\n"
     ]
    }
   ],
   "source": [
    "a=1\n",
    "while a<=5:\n",
    "    if a==1:\n",
    "        print(\"*       *\")\n",
    "    elif a==2:\n",
    "        print(\" *     * \")\n",
    "    elif a==3: \n",
    "        print(\"    *     \")\n",
    "    elif a==4:\n",
    "        print(\" *     * \")\n",
    "    elif a==5:\n",
    "        print(\"*       *\")\n",
    "    a=a+1"
   ]
  },
  {
   "cell_type": "code",
   "execution_count": 22,
   "id": "2b2b5b69",
   "metadata": {},
   "outputs": [
    {
     "name": "stdout",
     "output_type": "stream",
     "text": [
      "*       *\n",
      " *     *\n",
      "  *  * \n",
      "   *\n",
      " *\n",
      "*\n"
     ]
    }
   ],
   "source": [
    "a=1\n",
    "while a<=6:\n",
    "    if a==1:\n",
    "        print(\"*       *\")\n",
    "    elif a==2:\n",
    "        print(\" *     *\")\n",
    "    elif a==3:\n",
    "        print(\"  *  * \")\n",
    "    elif a==4:\n",
    "        print(\"   *\")\n",
    "    elif a==5:\n",
    "        print(\" *\")\n",
    "    elif a==6:\n",
    "        print(\"*\")\n",
    "    a=a+1"
   ]
  },
  {
   "cell_type": "code",
   "execution_count": 1,
   "id": "d10c5848",
   "metadata": {},
   "outputs": [
    {
     "name": "stdout",
     "output_type": "stream",
     "text": [
      "******\n",
      "    *\n",
      "   *\n",
      "  *\n",
      " *\n",
      "******\n"
     ]
    }
   ],
   "source": [
    "a=1\n",
    "while a<=6:\n",
    "    if a==1:\n",
    "        print(\"******\")\n",
    "    elif a==2:\n",
    "        print(\"    *\")\n",
    "    elif a==3:\n",
    "        print(\"   *\")\n",
    "    elif a==4:\n",
    "        print(\"  *\")\n",
    "    elif a==5:\n",
    "        print(\" *\")\n",
    "    elif a==6:\n",
    "        print(\"******\")\n",
    "    a=a+1"
   ]
  },
  {
   "cell_type": "code",
   "execution_count": null,
   "id": "69ab43e2",
   "metadata": {},
   "outputs": [],
   "source": []
  }
 ],
 "metadata": {
  "kernelspec": {
   "display_name": "Python 3 (ipykernel)",
   "language": "python",
   "name": "python3"
  },
  "language_info": {
   "codemirror_mode": {
    "name": "ipython",
    "version": 3
   },
   "file_extension": ".py",
   "mimetype": "text/x-python",
   "name": "python",
   "nbconvert_exporter": "python",
   "pygments_lexer": "ipython3",
   "version": "3.9.13"
  }
 },
 "nbformat": 4,
 "nbformat_minor": 5
}
